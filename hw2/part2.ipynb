{
 "cells": [
  {
   "cell_type": "code",
   "execution_count": 24,
   "metadata": {
    "collapsed": false
   },
   "outputs": [
    {
     "ename": "SyntaxError",
     "evalue": "invalid syntax (<ipython-input-24-32d6e980dd0f>, line 56)",
     "traceback": [
      "\u001b[0;36m  File \u001b[0;32m\"<ipython-input-24-32d6e980dd0f>\"\u001b[0;36m, line \u001b[0;32m56\u001b[0m\n\u001b[0;31m    sorted_w = np.sort(worst_arry)\u001b[0m\n\u001b[0m           ^\u001b[0m\n\u001b[0;31mSyntaxError\u001b[0m\u001b[0;31m:\u001b[0m invalid syntax\n"
     ],
     "output_type": "error"
    }
   ],
   "source": [
    "import numpy as np\n",
    "import scipy.stats as stats\n",
    "from scipy.stats import norm\n",
    "import matplotlib.mlab as mlab\n",
    "import matplotlib.pyplot as plt\n",
    "\n",
    "n_samples = 100\n",
    "n_experiments = 1000\n",
    "statis_signif = 0.95\n",
    "mu, sigma = 0, 1  #mean and standerd deviation\n",
    "conf_band = stats.norm.interval(statis_signif, loc=mu, scale=sigma)\n",
    "x = np.linspace(norm.ppf(0.01), norm.ppf(0.99), n_samples)\n",
    "norm_cdf = norm.cdf(x)\n",
    "\n",
    "max_dist = 0\n",
    "worst = 1\n",
    "best = 0\n",
    "best_array = np.zeros(n_samples)\n",
    "worst_array = np.zeros(n_samples)\n",
    "contained = 0\n",
    "\n",
    "for i in range(0, n_experiments):\n",
    "    samples = np.random.normal(mu, sigma, n_samples)\n",
    "\n",
    "    for j in range(0, n_samples):\n",
    "        if conf_band[0] <= samples[j] <= conf_band[1]:\n",
    "            contained += 1\n",
    "\n",
    "        if abs(samples[j] - norm_cdf[j]) > max_dist:\n",
    "            max_dist = samples[j]\n",
    "    \n",
    "    if max_dist > worst:\n",
    "        worst_array = samples\n",
    "        worst = max_dist\n",
    "    \n",
    "    if max_dist < best:\n",
    "        best_array = samples\n",
    "        best = max_dist\n",
    "\n",
    "percentage = float(100 * contained) / float(n_samples * n_experiments)\n",
    "print('The percentage of time that the interval contained the CDF is %f' % percentage)\n",
    "\n",
    "x = np.linspace(norm.ppf(0.01), norm.ppf(0.99), 100) \n",
    "\n",
    "sorted_best = np.sort(best_array)\n",
    "best_cdf = np.arange(0, 1, 1/float(n_samples))\n",
    "sorted_worst = np.sort(worst_array)\n",
    "worst_cdf = np.arange(0, 1, 1/float(n_samples))\n",
    "\n",
    "\n",
    "plt.plot(x, norm_cdf, label='norm_CDF', c='blue')\n",
    "plt.plot(sorted_best, best_cdf, label='best_CDF', c='green')\n",
    "plt.plot(sorted_worst, worst_cdf, label='worst_CDF', c='black')\n",
    "plt.title('Cumulative Distribution Function', fontsize=14)\n",
    "plt.legend(loc='lower right', fontsize=8)\n",
    "\n",
    "plt.show()"
   ]
  },
  {
   "cell_type": "code",
   "execution_count": null,
   "metadata": {
    "collapsed": true
   },
   "outputs": [],
   "source": [
    ""
   ]
  },
  {
   "cell_type": "code",
   "execution_count": 7,
   "metadata": {
    "collapsed": false
   },
   "outputs": [
    {
     "name": "stdout",
     "output_type": "stream",
     "text": [
      "[-2.32634787 -2.27935095 -2.23235402 -2.18535709 -2.13836017 -2.09136324\n",
      " -2.04436631 -1.99736939 -1.95037246 -1.90337553 -1.85637861 -1.80938168\n",
      " -1.76238475 -1.71538783 -1.6683909  -1.62139397 -1.57439705 -1.52740012\n",
      " -1.48040319 -1.43340627 -1.38640934 -1.33941241 -1.29241549 -1.24541856\n",
      " -1.19842163 -1.15142471 -1.10442778 -1.05743085 -1.01043393 -0.963437\n",
      " -0.91644007 -0.86944314 -0.82244622 -0.77544929 -0.72845236 -0.68145544\n",
      " -0.63445851 -0.58746158 -0.54046466 -0.49346773 -0.4464708  -0.39947388\n",
      " -0.35247695 -0.30548002 -0.2584831  -0.21148617 -0.16448924 -0.11749232\n",
      " -0.07049539 -0.02349846  0.02349846  0.07049539  0.11749232  0.16448924\n",
      "  0.21148617  0.2584831   0.30548002  0.35247695  0.39947388  0.4464708\n",
      "  0.49346773  0.54046466  0.58746158  0.63445851  0.68145544  0.72845236\n",
      "  0.77544929  0.82244622  0.86944314  0.91644007  0.963437    1.01043393\n",
      "  1.05743085  1.10442778  1.15142471  1.19842163  1.24541856  1.29241549\n",
      "  1.33941241  1.38640934  1.43340627  1.48040319  1.52740012  1.57439705\n",
      "  1.62139397  1.6683909   1.71538783  1.76238475  1.80938168  1.85637861\n",
      "  1.90337553  1.95037246  1.99736939  2.04436631  2.09136324  2.13836017\n",
      "  2.18535709  2.23235402  2.27935095  2.32634787]\n",
      "[ 0.01        0.01132311  0.01279579  0.01443134  0.01624376  0.01824776\n",
      "  0.02045869  0.02289254  0.02556587  0.02849578  0.03169981  0.03519586\n",
      "  0.03900216  0.04313707  0.04761908  0.05246659  0.05769784  0.06333077\n",
      "  0.06938284  0.07587088  0.08281097  0.09021823  0.09810665  0.10648897\n",
      "  0.11537646  0.12477878  0.13470381  0.1451575   0.15614372  0.16766413\n",
      "  0.17971806  0.1923024   0.20541149  0.21903711  0.23316836  0.24779168\n",
      "  0.26289082  0.27844687  0.29443831  0.31084107  0.3276286   0.34477203\n",
      "  0.3622403   0.38000029  0.39801705  0.41625396  0.43467301  0.45323497\n",
      "  0.47189968  0.49062633  0.50937367  0.52810032  0.54676503  0.56532699\n",
      "  0.58374604  0.60198295  0.61999971  0.6377597   0.65522797  0.6723714\n",
      "  0.68915893  0.70556169  0.72155313  0.73710918  0.75220832  0.76683164\n",
      "  0.78096289  0.79458851  0.8076976   0.82028194  0.83233587  0.84385628\n",
      "  0.8548425   0.86529619  0.87522122  0.88462354  0.89351103  0.90189335\n",
      "  0.90978177  0.91718903  0.92412912  0.93061716  0.93666923  0.94230216\n",
      "  0.94753341  0.95238092  0.95686293  0.96099784  0.96480414  0.96830019\n",
      "  0.97150422  0.97443413  0.97710746  0.97954131  0.98175224  0.98375624\n",
      "  0.98556866  0.98720421  0.98867689  0.99      ]\n"
     ]
    },
    {
     "data": {
      "image/png": "[encoded data removed]",
      "text/plain": [
       "<matplotlib.figure.Figure at 0x10ea68e50>"
      ]
     },
     "metadata": {},
     "output_type": "display_data"
    }
   ],
   "source": [
    "from scipy.stats import norm\n",
    "import matplotlib.pyplot as plt\n",
    "fig, ax = plt.subplots(1, 1)\n",
    "\n",
    "x = np.linspace(norm.ppf(0.01), norm.ppf(0.99), 100)\n",
    "print(x)\n",
    "print(norm.cdf(x))\n",
    "ax.plot(x, norm.cdf(x), 'r-', lw=1, alpha=0.6, label='norm cdf')\n",
    "plt.show()"
   ]
  },
  {
   "cell_type": "code",
   "execution_count": 102,
   "metadata": {
    "collapsed": false
   },
   "outputs": [
    {
     "name": "stdout",
     "output_type": "stream",
     "text": [
      "<type 'int'>\n",
      "97730\n",
      "1000\n",
      "97.73% of the samples are contained in the CI\n"
     ]
    }
   ],
   "source": [
    "#from future import division\n",
    "import numpy as np\n",
    "import scipy as sp\n",
    "import scipy.stats as stats\n",
    "#from scipy.stats import norm\n",
    "import matplotlib.mlab as mlab\n",
    "import matplotlib.pyplot as plt\n",
    "\n",
    "N = 100\n",
    "confidence = 0.95\n",
    "a = np.random.normal(0, 1, N)\n",
    "mean, sigma = a.mean(), a.std(ddof=1)\n",
    "conf_int_a = stats.norm.interval(confidence, loc=mean, scale=sigma)\n",
    "\n",
    "experiments = 1000\n",
    "CI_count = 0\n",
    "\n",
    "min_Dn=1\n",
    "max_Dn=0\n",
    "best_arr=np.zeros(N)\n",
    "worst_arr=np.zeros(N)\n",
    "\n",
    "for i in range(0,experiments):\n",
    "    samples = np.random.normal(0, 1, N)\n",
    "\n",
    "    for j in range(0,N):\n",
    "        if conf_int_a[0] <= samples[j] <= conf_int_a[1]:\n",
    "            CI_count += 1\n",
    "            \n",
    "\n",
    "    #KS = sp(samples, 'norm')\n",
    "\n",
    "    #if KS[0] < min_Dn:\n",
    "        #min_Dn = KS[0]\n",
    "        #best_arr = samples\n",
    "\n",
    "    #if KS[0] > max_Dn:\n",
    "        #max_Dn = KS[0]\n",
    "        #worst_arr = samples   \n",
    "print(type(CI_count))\n",
    "print(CI_count)\n",
    "print(experiments)\n",
    "print(str(float(CI_count)/float(experiments)) + \"% of the samples are contained in the CI\")"
   ]
  }
 ],
 "metadata": {
  "anaconda-cloud": {},
  "kernelspec": {
   "display_name": "Python [default]",
   "language": "python",
   "name": "python2"
  },
  "language_info": {
   "codemirror_mode": {
    "name": "ipython",
    "version": 2.0
   },
   "file_extension": ".py",
   "mimetype": "text/x-python",
   "name": "python",
   "nbconvert_exporter": "python",
   "pygments_lexer": "ipython2",
   "version": "2.7.12"
  }
 },
 "nbformat": 4,
 "nbformat_minor": 0
}